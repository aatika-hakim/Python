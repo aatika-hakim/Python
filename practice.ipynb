{
  "nbformat": 4,
  "nbformat_minor": 0,
  "metadata": {
    "colab": {
      "provenance": [],
      "authorship_tag": "ABX9TyOqf8FdOlvrm8BCm3ThH4aZ",
      "include_colab_link": true
    },
    "kernelspec": {
      "name": "python3",
      "display_name": "Python 3"
    },
    "language_info": {
      "name": "python"
    }
  },
  "cells": [
    {
      "cell_type": "markdown",
      "metadata": {
        "id": "view-in-github",
        "colab_type": "text"
      },
      "source": [
        "<a href=\"https://colab.research.google.com/github/aatika-hakim/Python/blob/main/practice.ipynb\" target=\"_parent\"><img src=\"https://colab.research.google.com/assets/colab-badge.svg\" alt=\"Open In Colab\"/></a>"
      ]
    },
    {
      "cell_type": "code",
      "execution_count": 3,
      "metadata": {
        "colab": {
          "base_uri": "https://localhost:8080/"
        },
        "id": "g2aw40CzZg38",
        "outputId": "730f12a3-156f-4adc-844c-77b71b0186d6"
      },
      "outputs": [
        {
          "output_type": "stream",
          "name": "stdout",
          "text": [
            "hello rose\n"
          ]
        }
      ],
      "source": [
        "name: str = \"rose\"\n",
        "print(f'hello {name}')"
      ]
    },
    {
      "cell_type": "code",
      "source": [
        "# loop syntax\n",
        "'''\n",
        "for local_variable in iteratable_type:\n",
        "  your logic\n",
        "'''\n"
      ],
      "metadata": {
        "id": "rOjYT2nNaLwI"
      },
      "execution_count": null,
      "outputs": []
    },
    {
      "cell_type": "code",
      "source": [
        "from typing import List\n",
        "names: List[str] = [\"abc\", \"cde\", \"fgh\", \"ijk\", \"lmn\"]\n",
        "for name in names:\n",
        "  print(f'hello {name}')\n",
        "\n",
        "  # f string allows you to write dynamic values inside string"
      ],
      "metadata": {
        "colab": {
          "base_uri": "https://localhost:8080/"
        },
        "id": "7HSLdTyZaiRb",
        "outputId": "51cb6aae-fb70-41b0-fa3b-b7f9e2bff4bb"
      },
      "execution_count": 4,
      "outputs": [
        {
          "output_type": "stream",
          "name": "stdout",
          "text": [
            "hello abc\n",
            "hello cde\n",
            "hello fgh\n",
            "hello ijk\n",
            "hello lmn\n"
          ]
        }
      ]
    },
    {
      "cell_type": "code",
      "source": [
        "from typing import List\n",
        "names: List[str] = [\"abc\", \"cde\", \"fgh\", \"ijk\", \"lmn\"]\n",
        "print(f'hello {names}')"
      ],
      "metadata": {
        "colab": {
          "base_uri": "https://localhost:8080/"
        },
        "id": "D-r_e5WGbLDq",
        "outputId": "342ef4e7-9198-48fd-9f5e-3278c96f9c12"
      },
      "execution_count": 6,
      "outputs": [
        {
          "output_type": "stream",
          "name": "stdout",
          "text": [
            "hello ['abc', 'cde', 'fgh', 'ijk', 'lmn']\n"
          ]
        }
      ]
    }
  ]
}