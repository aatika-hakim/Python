{
  "nbformat": 4,
  "nbformat_minor": 0,
  "metadata": {
    "colab": {
      "provenance": [],
      "authorship_tag": "ABX9TyPHG30R0+OIimloKz/boz2v",
      "include_colab_link": true
    },
    "kernelspec": {
      "name": "python3",
      "display_name": "Python 3"
    },
    "language_info": {
      "name": "python"
    }
  },
  "cells": [
    {
      "cell_type": "markdown",
      "metadata": {
        "id": "view-in-github",
        "colab_type": "text"
      },
      "source": [
        "<a href=\"https://colab.research.google.com/github/aatika-hakim/Python/blob/main/Python_Class2.ipynb\" target=\"_parent\"><img src=\"https://colab.research.google.com/assets/colab-badge.svg\" alt=\"Open In Colab\"/></a>"
      ]
    },
    {
      "cell_type": "markdown",
      "source": [
        "## **String method, f-string, jinja**"
      ],
      "metadata": {
        "id": "lStldjlmao-t"
      }
    },
    {
      "cell_type": "code",
      "source": [
        "#Concatenation in python\n",
        "\n",
        "\"a\" + 2\n"
      ],
      "metadata": {
        "colab": {
          "base_uri": "https://localhost:8080/",
          "height": 176
        },
        "id": "1wBcaGBZNV_1",
        "outputId": "965dc20d-f675-4037-94d9-a27cfd9cd2ce"
      },
      "execution_count": null,
      "outputs": [
        {
          "output_type": "error",
          "ename": "TypeError",
          "evalue": "can only concatenate str (not \"int\") to str",
          "traceback": [
            "\u001b[0;31m---------------------------------------------------------------------------\u001b[0m",
            "\u001b[0;31mTypeError\u001b[0m                                 Traceback (most recent call last)",
            "\u001b[0;32m<ipython-input-3-cba261af2f48>\u001b[0m in \u001b[0;36m<cell line: 3>\u001b[0;34m()\u001b[0m\n\u001b[1;32m      1\u001b[0m \u001b[0;31m#Concatenation in python\u001b[0m\u001b[0;34m\u001b[0m\u001b[0;34m\u001b[0m\u001b[0m\n\u001b[1;32m      2\u001b[0m \u001b[0;34m\u001b[0m\u001b[0m\n\u001b[0;32m----> 3\u001b[0;31m \u001b[0;34m\"a\"\u001b[0m \u001b[0;34m+\u001b[0m \u001b[0;36m2\u001b[0m\u001b[0;34m\u001b[0m\u001b[0;34m\u001b[0m\u001b[0m\n\u001b[0m",
            "\u001b[0;31mTypeError\u001b[0m: can only concatenate str (not \"int\") to str"
          ]
        }
      ]
    },
    {
      "cell_type": "code",
      "source": [
        "\"a\" + str(2)"
      ],
      "metadata": {
        "colab": {
          "base_uri": "https://localhost:8080/",
          "height": 35
        },
        "id": "TbnlEeaUNl1O",
        "outputId": "5509d33d-e056-4ddc-dfa8-3ed7cef0a8dd"
      },
      "execution_count": null,
      "outputs": [
        {
          "output_type": "execute_result",
          "data": {
            "text/plain": [
              "'a2'"
            ],
            "application/vnd.google.colaboratory.intrinsic+json": {
              "type": "string"
            }
          },
          "metadata": {},
          "execution_count": 4
        }
      ]
    },
    {
      "cell_type": "code",
      "source": [
        "msg : str = 'What's the matter?'\n",
        "print(msg)"
      ],
      "metadata": {
        "colab": {
          "base_uri": "https://localhost:8080/",
          "height": 106
        },
        "id": "8ltX6OTYL71I",
        "outputId": "3d345b56-b18d-42f6-d80d-ec5df72dcb1a"
      },
      "execution_count": null,
      "outputs": [
        {
          "output_type": "error",
          "ename": "SyntaxError",
          "evalue": "unterminated string literal (detected at line 3) (<ipython-input-1-dc5aa24beeab>, line 3)",
          "traceback": [
            "\u001b[0;36m  File \u001b[0;32m\"<ipython-input-1-dc5aa24beeab>\"\u001b[0;36m, line \u001b[0;32m3\u001b[0m\n\u001b[0;31m    msg : str = 'What's the matter?'\u001b[0m\n\u001b[0m                                   ^\u001b[0m\n\u001b[0;31mSyntaxError\u001b[0m\u001b[0;31m:\u001b[0m unterminated string literal (detected at line 3)\n"
          ]
        }
      ]
    },
    {
      "cell_type": "code",
      "source": [
        "#for converting special character into simple character, place \\ before character\n",
        "\n",
        "msg : str = 'What\\'s the matter?'\n",
        "print(msg)"
      ],
      "metadata": {
        "colab": {
          "base_uri": "https://localhost:8080/"
        },
        "id": "waDppzRtMfg0",
        "outputId": "9fca46a6-369d-48dd-b062-e34af0f5c43b"
      },
      "execution_count": null,
      "outputs": [
        {
          "output_type": "stream",
          "name": "stdout",
          "text": [
            "What's the matter?\n"
          ]
        }
      ]
    },
    {
      "cell_type": "markdown",
      "source": [
        "**\\ for continue line**"
      ],
      "metadata": {
        "id": "58kFKCJVj4VX"
      }
    },
    {
      "cell_type": "code",
      "source": [
        "print(7 + \\\n",
        "      2 + \\\n",
        "      5)"
      ],
      "metadata": {
        "colab": {
          "base_uri": "https://localhost:8080/"
        },
        "id": "3Z_PKEEFjgtQ",
        "outputId": "e758bf89-c52a-403f-c8c4-d277842816d4"
      },
      "execution_count": null,
      "outputs": [
        {
          "output_type": "stream",
          "name": "stdout",
          "text": [
            "14\n"
          ]
        }
      ]
    },
    {
      "cell_type": "markdown",
      "source": [
        "In **Python**, there are **three types** bold text bold textof quotes that can be used to define string literals: **single quotes **( ' ' ), **double quotes** ( \" \" ), and **triple quotes** (' ' ' or \" \" \").\n",
        "\n",
        "---\n",
        "\n",
        "\n",
        "\n"
      ],
      "metadata": {
        "id": "R8E9LYbrdlmI"
      }
    },
    {
      "cell_type": "markdown",
      "source": [
        "Single Quotes (') and Double Quotes (\")"
      ],
      "metadata": {
        "id": "zBCiNdCkeO62"
      }
    },
    {
      "cell_type": "code",
      "source": [
        "single : str = 'This is a string with single quotes.'\n",
        "double : str = \"This is a string with double quotes.\"\n",
        "\n",
        "print(single)\n",
        "print(double)"
      ],
      "metadata": {
        "colab": {
          "base_uri": "https://localhost:8080/"
        },
        "id": "jcTVamw3eWpK",
        "outputId": "cf80579f-0300-4c95-fcae-31607db6f82e"
      },
      "execution_count": null,
      "outputs": [
        {
          "output_type": "stream",
          "name": "stdout",
          "text": [
            "This is a string with single quotes.\n",
            "This is a string with double quotes.\n"
          ]
        }
      ]
    },
    {
      "cell_type": "markdown",
      "source": [
        "Triple Quotes (''') or(\"\"\"), used for define multi-line strings"
      ],
      "metadata": {
        "id": "nmXXv5HGg0qK"
      }
    },
    {
      "cell_type": "code",
      "source": [
        "data = \"\"\"\n",
        "Name: John Doe\n",
        "Age: 30\n",
        "Occupation: Software Engineer\n",
        "Location: New York City\n",
        "\"\"\"\n",
        "\n",
        "print(data)"
      ],
      "metadata": {
        "colab": {
          "base_uri": "https://localhost:8080/"
        },
        "id": "VLScvZkWhHxU",
        "outputId": "824d2648-b720-4973-a3ee-d28e896d2dcc"
      },
      "execution_count": null,
      "outputs": [
        {
          "output_type": "stream",
          "name": "stdout",
          "text": [
            "\n",
            "Name: John Doe\n",
            "Age: 30\n",
            "Occupation: Software Engineer\n",
            "Location: New York City\n",
            "\n"
          ]
        }
      ]
    },
    {
      "cell_type": "code",
      "source": [
        "# wrong way to concate in triple quotes\n",
        "name : str = \"Ali\"\n",
        "\n",
        "data = \"\"\"\n",
        "Name: +${name}\n",
        "Age: 30\n",
        "Occupation: Software Engineer\n",
        "Location: New York City\n",
        "\"\"\"\n",
        "\n",
        "print(data)"
      ],
      "metadata": {
        "colab": {
          "base_uri": "https://localhost:8080/"
        },
        "id": "Foe1-lIwh9T2",
        "outputId": "e49c161d-ab90-4d3d-96ad-98df13339c97"
      },
      "execution_count": null,
      "outputs": [
        {
          "output_type": "stream",
          "name": "stdout",
          "text": [
            "\n",
            "Name: +${name}\n",
            "Age: 30\n",
            "Occupation: Software Engineer\n",
            "Location: New York City\n",
            "\n"
          ]
        }
      ]
    },
    {
      "cell_type": "code",
      "source": [
        "# concate\n",
        "name = \"Ali\"\n",
        "\n",
        "data = \"\"\"\n",
        "Name: {}\n",
        "Age: 30\n",
        "Occupation: Software Engineer\n",
        "Location: New York City\n",
        "\"\"\".format(name)\n",
        "\n",
        "print(data)"
      ],
      "metadata": {
        "colab": {
          "base_uri": "https://localhost:8080/"
        },
        "id": "r_YR-U34ih6-",
        "outputId": "41d92edb-6c76-473b-c3c4-1522e028f205"
      },
      "execution_count": null,
      "outputs": [
        {
          "output_type": "stream",
          "name": "stdout",
          "text": [
            "\n",
            "Name: Ali\n",
            "Age: 30\n",
            "Occupation: Software Engineer\n",
            "Location: New York City\n",
            "\n"
          ]
        }
      ]
    },
    {
      "cell_type": "markdown",
      "source": [
        "Recommended method\n",
        "**F-string**\n",
        "We use it for concatenation in triple quotes\n",
        "\n",
        "---\n",
        "F-strings support complex expressions and function calls within the curly braces.\n",
        "\n",
        "---\n",
        "\n",
        "\n"
      ],
      "metadata": {
        "id": "y4g37T5KjQjT"
      }
    },
    {
      "cell_type": "code",
      "source": [
        "name:str = \"Ali\"\n",
        "age:int = 30\n",
        "profession:str = \"Developer\"\n",
        "City:str = \"Lahore\"\n",
        "\n",
        "data = f'''\n",
        "Name: {name} \\n\n",
        "Age: {age}\n",
        "profession: {profession}\n",
        "Location: {City}\n",
        "\n",
        "#variable\n",
        "sum = {23 + 23 + 45 + 56 + 34}\n",
        "'''\n",
        "print(data)"
      ],
      "metadata": {
        "colab": {
          "base_uri": "https://localhost:8080/"
        },
        "id": "Jec5rPBVjdPF",
        "outputId": "0155dfc6-2fb0-43de-80c2-0a3d79e3dc6c"
      },
      "execution_count": null,
      "outputs": [
        {
          "output_type": "stream",
          "name": "stdout",
          "text": [
            "\n",
            "Name: Ali \n",
            "\n",
            "Age: 30 \n",
            "profession: Developer \n",
            "Location: Lahore \n",
            "\n",
            "#variable\n",
            "sum = 181\n",
            "\n"
          ]
        }
      ]
    },
    {
      "cell_type": "code",
      "source": [
        "x = 10\n",
        "y = 20\n",
        "print(f\"The sum of {x} and {y} is {x + y}.\")"
      ],
      "metadata": {
        "colab": {
          "base_uri": "https://localhost:8080/"
        },
        "id": "AdA_PZgWPNPd",
        "outputId": "4e6a8632-0963-4965-a088-b3b045dfa519"
      },
      "execution_count": null,
      "outputs": [
        {
          "output_type": "stream",
          "name": "stdout",
          "text": [
            "The sum of 10 + 20 = 30.\n"
          ]
        }
      ]
    },
    {
      "cell_type": "markdown",
      "source": [
        "### python provide two styles for string formatting\n",
        "\n",
        "*   f-string\n",
        "*   jinja\n",
        "\n"
      ],
      "metadata": {
        "id": "uwVruWJBP5ae"
      }
    },
    {
      "cell_type": "code",
      "source": [
        "x : str = 'python'\n",
        "\n",
        "# f-string\n",
        "f_str = f'''I am learning {x}'''\n",
        "print(f_str)\n",
        "\n",
        "# jinja, do not work directly it work with html\n",
        "jinja = \"\"\"I am learning {{x}}\"\"\"\n",
        "print(jinja)"
      ],
      "metadata": {
        "colab": {
          "base_uri": "https://localhost:8080/"
        },
        "id": "_ZYMXeazQKjh",
        "outputId": "c817c446-5925-4364-99ae-fe2c5c7f0a99"
      },
      "execution_count": null,
      "outputs": [
        {
          "output_type": "stream",
          "name": "stdout",
          "text": [
            "I am learning python\n",
            "I am learning {{x}}\n"
          ]
        }
      ]
    },
    {
      "cell_type": "code",
      "source": [
        "name:str = \"Ali\"\n",
        "age:int = 30\n",
        "profession:str = \"Developer\"\n",
        "City:str = \"Lahore\"\n",
        "\n",
        "#concatenation\n",
        "data = f'''\n",
        "Name: %s\n",
        "Age: %d\n",
        "profession: %s\n",
        "Location: %s\n",
        "'''%(name, age, profession, City)\n",
        "print(data)"
      ],
      "metadata": {
        "colab": {
          "base_uri": "https://localhost:8080/"
        },
        "id": "ceqYobs1RbWQ",
        "outputId": "673cdf8f-e7d4-4d28-b2c8-326202c5f46f"
      },
      "execution_count": null,
      "outputs": [
        {
          "output_type": "stream",
          "name": "stdout",
          "text": [
            "\n",
            "Name: Ali\n",
            "Age: 30\n",
            "profession: Developer\n",
            "Location: Lahore\n",
            "\n"
          ]
        }
      ]
    },
    {
      "cell_type": "code",
      "source": [
        "dir(str)"
      ],
      "metadata": {
        "colab": {
          "base_uri": "https://localhost:8080/"
        },
        "id": "OaV7Aa6pSQYH",
        "outputId": "6fddd4a1-3f65-40fe-dab0-6642f3ecf6cd"
      },
      "execution_count": null,
      "outputs": [
        {
          "output_type": "execute_result",
          "data": {
            "text/plain": [
              "['__add__',\n",
              " '__class__',\n",
              " '__contains__',\n",
              " '__delattr__',\n",
              " '__dir__',\n",
              " '__doc__',\n",
              " '__eq__',\n",
              " '__format__',\n",
              " '__ge__',\n",
              " '__getattribute__',\n",
              " '__getitem__',\n",
              " '__getnewargs__',\n",
              " '__gt__',\n",
              " '__hash__',\n",
              " '__init__',\n",
              " '__init_subclass__',\n",
              " '__iter__',\n",
              " '__le__',\n",
              " '__len__',\n",
              " '__lt__',\n",
              " '__mod__',\n",
              " '__mul__',\n",
              " '__ne__',\n",
              " '__new__',\n",
              " '__reduce__',\n",
              " '__reduce_ex__',\n",
              " '__repr__',\n",
              " '__rmod__',\n",
              " '__rmul__',\n",
              " '__setattr__',\n",
              " '__sizeof__',\n",
              " '__str__',\n",
              " '__subclasshook__',\n",
              " 'capitalize',\n",
              " 'casefold',\n",
              " 'center',\n",
              " 'count',\n",
              " 'encode',\n",
              " 'endswith',\n",
              " 'expandtabs',\n",
              " 'find',\n",
              " 'format',\n",
              " 'format_map',\n",
              " 'index',\n",
              " 'isalnum',\n",
              " 'isalpha',\n",
              " 'isascii',\n",
              " 'isdecimal',\n",
              " 'isdigit',\n",
              " 'isidentifier',\n",
              " 'islower',\n",
              " 'isnumeric',\n",
              " 'isprintable',\n",
              " 'isspace',\n",
              " 'istitle',\n",
              " 'isupper',\n",
              " 'join',\n",
              " 'ljust',\n",
              " 'lower',\n",
              " 'lstrip',\n",
              " 'maketrans',\n",
              " 'partition',\n",
              " 'removeprefix',\n",
              " 'removesuffix',\n",
              " 'replace',\n",
              " 'rfind',\n",
              " 'rindex',\n",
              " 'rjust',\n",
              " 'rpartition',\n",
              " 'rsplit',\n",
              " 'rstrip',\n",
              " 'split',\n",
              " 'splitlines',\n",
              " 'startswith',\n",
              " 'strip',\n",
              " 'swapcase',\n",
              " 'title',\n",
              " 'translate',\n",
              " 'upper',\n",
              " 'zfill']"
            ]
          },
          "metadata": {},
          "execution_count": 14
        }
      ]
    },
    {
      "cell_type": "code",
      "source": [
        "Name : str = \"Rose Marry\"\n",
        "\n",
        "print(Name.capitalize())\n",
        "print(Name.lower())\n",
        "print(Name.split(sep=None, maxsplit=-1))\n"
      ],
      "metadata": {
        "colab": {
          "base_uri": "https://localhost:8080/"
        },
        "id": "BJZKS9t8TP3S",
        "outputId": "5a31542e-39ec-46e4-f317-cf88eaeface2"
      },
      "execution_count": null,
      "outputs": [
        {
          "output_type": "stream",
          "name": "stdout",
          "text": [
            "Rose marry\n",
            "rose marry\n",
            "['Rose', 'Marry']\n"
          ]
        }
      ]
    },
    {
      "cell_type": "code",
      "source": [
        "a = 7\n",
        "b = 8\n",
        "\n",
        "# {} called placeholder\n",
        "'Tha value of a = {} and value of b = {}'.format(a,b)"
      ],
      "metadata": {
        "colab": {
          "base_uri": "https://localhost:8080/",
          "height": 35
        },
        "id": "k1S8xgMZU-S6",
        "outputId": "363053a6-f31d-421b-f2de-f08d6e9713b9"
      },
      "execution_count": null,
      "outputs": [
        {
          "output_type": "execute_result",
          "data": {
            "text/plain": [
              "'Tha value of a = 7 and value of b = 8'"
            ],
            "application/vnd.google.colaboratory.intrinsic+json": {
              "type": "string"
            }
          },
          "metadata": {},
          "execution_count": 21
        }
      ]
    },
    {
      "cell_type": "code",
      "source": [
        "# we got wrong data at placeholders\n",
        "name:str = \"Ali\"\n",
        "age:int = 30\n",
        "profession:str = \"Developer\"\n",
        "City:str = \"Lahore\"\n",
        "\n",
        "data = '''\n",
        "Name: {}  #0\n",
        "Age: {}   #1\n",
        "profession: {} #2\n",
        "Location: {}   #3\n",
        "'''.format(name, City, age, profession)\n",
        "#           0      1    2     3\n",
        "print(data)"
      ],
      "metadata": {
        "colab": {
          "base_uri": "https://localhost:8080/"
        },
        "id": "3OGpMN8wVnRd",
        "outputId": "6b724bd1-376f-4103-fc20-c9ff9bf4338d"
      },
      "execution_count": null,
      "outputs": [
        {
          "output_type": "stream",
          "name": "stdout",
          "text": [
            "\n",
            "Name: Ali\n",
            "Age: Lahore\n",
            "profession: 30\n",
            "Location: Developer\n",
            "\n"
          ]
        }
      ]
    },
    {
      "cell_type": "code",
      "source": [
        "name:str = \"Ali\"\n",
        "age:int = 30\n",
        "profession:str = \"Developer\"\n",
        "City:str = \"Lahore\"\n",
        "\n",
        "data = '''\n",
        "Name: {0}\n",
        "Age: {1}\n",
        "profession: {2}\n",
        "Location: {3}\n",
        "'''.format(name, City, age, profession)\n",
        "#           0      1    2     3\n",
        "print(data)"
      ],
      "metadata": {
        "colab": {
          "base_uri": "https://localhost:8080/"
        },
        "id": "3gvYq9aVW7lX",
        "outputId": "48c543ac-ecf8-463b-fad5-47e3b4251729"
      },
      "execution_count": null,
      "outputs": [
        {
          "output_type": "stream",
          "name": "stdout",
          "text": [
            "\n",
            "Name: Ali  \n",
            "Age: Lahore\n",
            "profession: 30\n",
            "Location: Developer\n",
            "\n"
          ]
        }
      ]
    },
    {
      "cell_type": "code",
      "source": [
        "name:str = \"Ali\"\n",
        "age:int = 30\n",
        "profession:str = \"Developer\"\n",
        "City:str = \"Lahore\"\n",
        "\n",
        "data = '''\n",
        "Name: {a}\n",
        "Age: {c}\n",
        "profession: {d}\n",
        "Location: {b}\n",
        "'''.format(a=name, b=City, c=age, d=profession)\n",
        "\n",
        "print(data)"
      ],
      "metadata": {
        "colab": {
          "base_uri": "https://localhost:8080/"
        },
        "id": "wUlWjqohXX4X",
        "outputId": "31685e38-de14-4ded-a7f3-a0fc423add2f"
      },
      "execution_count": null,
      "outputs": [
        {
          "output_type": "stream",
          "name": "stdout",
          "text": [
            "\n",
            "Name: Ali  \n",
            "Age: 30\n",
            "profession: Developer\n",
            "Location: Lahore\n",
            "\n"
          ]
        }
      ]
    },
    {
      "cell_type": "markdown",
      "source": [
        "###Methods and attributes of string\n",
        "\n",
        "pre-defined global functions\n",
        "*   print\n",
        "*   type\n",
        "*   dir\n",
        "*   len\n",
        "*   id\n",
        "\n"
      ],
      "metadata": {
        "id": "iDGttL5cbGKb"
      }
    },
    {
      "cell_type": "markdown",
      "source": [
        "# Syntax of function\n",
        "variable_name.method()"
      ],
      "metadata": {
        "id": "qZ5Y6vMAb6_J"
      }
    },
    {
      "cell_type": "code",
      "source": [
        "a : list[str] = [i for i in dir(str) if \"__\" not in i]\n",
        "print(len(a))\n",
        "print(type(a))\n",
        "print(id(a))"
      ],
      "metadata": {
        "colab": {
          "base_uri": "https://localhost:8080/"
        },
        "id": "Kcp9GLrwSy3c",
        "outputId": "f856d1a1-b7ec-428f-e496-60912d28977d"
      },
      "execution_count": null,
      "outputs": [
        {
          "output_type": "stream",
          "name": "stdout",
          "text": [
            "47\n",
            "<class 'list'>\n",
            "139699443520000\n",
            "['__add__', '__class__', '__contains__', '__delattr__', '__dir__', '__doc__', '__eq__', '__format__', '__ge__', '__getattribute__', '__getitem__', '__getnewargs__', '__gt__', '__hash__', '__init__', '__init_subclass__', '__iter__', '__le__', '__len__', '__lt__', '__mod__', '__mul__', '__ne__', '__new__', '__reduce__', '__reduce_ex__', '__repr__', '__rmod__', '__rmul__', '__setattr__', '__sizeof__', '__str__', '__subclasshook__', 'capitalize', 'casefold', 'center', 'count', 'encode', 'endswith', 'expandtabs', 'find', 'format', 'format_map', 'index', 'isalnum', 'isalpha', 'isascii', 'isdecimal', 'isdigit', 'isidentifier', 'islower', 'isnumeric', 'isprintable', 'isspace', 'istitle', 'isupper', 'join', 'ljust', 'lower', 'lstrip', 'maketrans', 'partition', 'removeprefix', 'removesuffix', 'replace', 'rfind', 'rindex', 'rjust', 'rpartition', 'rsplit', 'rstrip', 'split', 'splitlines', 'startswith', 'strip', 'swapcase', 'title', 'translate', 'upper', 'zfill']\n"
          ]
        }
      ]
    },
    {
      "cell_type": "code",
      "source": [],
      "metadata": {
        "id": "0krLc0QraocT"
      },
      "execution_count": null,
      "outputs": []
    }
  ]
}