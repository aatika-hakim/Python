{
  "nbformat": 4,
  "nbformat_minor": 0,
  "metadata": {
    "colab": {
      "provenance": [],
      "authorship_tag": "ABX9TyPkVAjWDHlhhQB6g27CRYoL",
      "include_colab_link": true
    },
    "kernelspec": {
      "name": "python3",
      "display_name": "Python 3"
    },
    "language_info": {
      "name": "python"
    }
  },
  "cells": [
    {
      "cell_type": "markdown",
      "metadata": {
        "id": "view-in-github",
        "colab_type": "text"
      },
      "source": [
        "<a href=\"https://colab.research.google.com/github/aatika-hakim/Python/blob/main/Class4.ipynb\" target=\"_parent\"><img src=\"https://colab.research.google.com/assets/colab-badge.svg\" alt=\"Open In Colab\"/></a>"
      ]
    },
    {
      "cell_type": "markdown",
      "source": [
        "# **Lists, Indexing, Slice and List Methods**"
      ],
      "metadata": {
        "id": "8nMssC83NgVX"
      }
    },
    {
      "cell_type": "code",
      "source": [
        "names = [\"Ali\", \"Muhammad\", \"Umer\"]\n",
        "print(names)\n",
        "print(type(names))"
      ],
      "metadata": {
        "colab": {
          "base_uri": "https://localhost:8080/"
        },
        "id": "QfV-Ogo0NrJk",
        "outputId": "1fc8a703-9e7c-4c48-8e4b-37ec59dc8065"
      },
      "execution_count": 1,
      "outputs": [
        {
          "output_type": "stream",
          "name": "stdout",
          "text": [
            "['Ali', 'Muhammad', 'Umer']\n",
            "<class 'list'>\n"
          ]
        }
      ]
    },
    {
      "cell_type": "code",
      "source": [
        "#index start from 0\n",
        "names = [\"Ali\", \"Muhammad\", \"Umer\"]\n",
        "#          0      1            2\n",
        "print(names[2])\n",
        "print(type(names[2]))"
      ],
      "metadata": {
        "colab": {
          "base_uri": "https://localhost:8080/"
        },
        "id": "k_w6g-e0RwFo",
        "outputId": "39c820b0-d0ff-468e-e270-71897e0ccaa4"
      },
      "execution_count": 3,
      "outputs": [
        {
          "output_type": "stream",
          "name": "stdout",
          "text": [
            "Umer\n",
            "<class 'str'>\n"
          ]
        }
      ]
    },
    {
      "cell_type": "code",
      "source": [
        "char : list[str] = list('muhammmad' )\n",
        "print(char)"
      ],
      "metadata": {
        "colab": {
          "base_uri": "https://localhost:8080/"
        },
        "id": "Z7cZvSi7Si-0",
        "outputId": "72d5ab92-f1db-49b1-b691-50feb40b22f3"
      },
      "execution_count": 4,
      "outputs": [
        {
          "output_type": "stream",
          "name": "stdout",
          "text": [
            "['m', 'u', 'h', 'a', 'm', 'm', 'm', 'a', 'd']\n"
          ]
        }
      ]
    },
    {
      "cell_type": "code",
      "source": [
        "#Slice\n",
        "#default slicing from left to right\n",
        "\n",
        "char : list[str] = ['m', 'u', 'h', 'a', 'm', 'm', 'm', 'a', 'd']\n",
        "print(char[0:5]) # 0 start : 5-1"
      ],
      "metadata": {
        "colab": {
          "base_uri": "https://localhost:8080/"
        },
        "id": "QGok9r4cSUpr",
        "outputId": "4197f65b-c9fd-43c6-8efb-607076e8f102"
      },
      "execution_count": 15,
      "outputs": [
        {
          "output_type": "stream",
          "name": "stdout",
          "text": [
            "['m', 'u', 'h', 'a', 'm']\n",
            "['h', 'a', 'm']\n"
          ]
        }
      ]
    }
  ]
}