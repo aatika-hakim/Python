{
  "nbformat": 4,
  "nbformat_minor": 0,
  "metadata": {
    "colab": {
      "provenance": [],
      "authorship_tag": "ABX9TyN5gbcKnTSKombnyXycOR/U",
      "include_colab_link": true
    },
    "kernelspec": {
      "name": "python3",
      "display_name": "Python 3"
    },
    "language_info": {
      "name": "python"
    }
  },
  "cells": [
    {
      "cell_type": "markdown",
      "metadata": {
        "id": "view-in-github",
        "colab_type": "text"
      },
      "source": [
        "<a href=\"https://colab.research.google.com/github/aatika-hakim/Python/blob/main/Class3.ipynb\" target=\"_parent\"><img src=\"https://colab.research.google.com/assets/colab-badge.svg\" alt=\"Open In Colab\"/></a>"
      ]
    },
    {
      "cell_type": "markdown",
      "source": [
        "# Identity Operators\n",
        "\n",
        "* 0 is    returns true if both are the same object in memory\n",
        "\n",
        "* 1 is not  returns true if both are not the same object in memory"
      ],
      "metadata": {
        "id": "844E3YcKaUpn"
      }
    },
    {
      "cell_type": "code",
      "source": [
        "x: str = \"abc\"\n",
        "y: str = \"bcd\"\n",
        "\n",
        "print(id(x))\n",
        "print(id(y))\n",
        "\n",
        "x is not y\n",
        "x is y"
      ],
      "metadata": {
        "id": "PCIsCjmTxvkl",
        "colab": {
          "base_uri": "https://localhost:8080/"
        },
        "outputId": "78246e87-43ec-4c5e-b30e-f331ba998aa3"
      },
      "execution_count": null,
      "outputs": [
        {
          "output_type": "stream",
          "name": "stdout",
          "text": [
            "139535551418608\n",
            "139535123120368\n"
          ]
        },
        {
          "output_type": "execute_result",
          "data": {
            "text/plain": [
              "False"
            ]
          },
          "metadata": {},
          "execution_count": 4
        }
      ]
    },
    {
      "cell_type": "markdown",
      "source": [
        "# Logical Operators\n",
        "\n",
        "and\n",
        "or"
      ],
      "metadata": {
        "id": "GPx80eDdaqgt"
      }
    },
    {
      "cell_type": "code",
      "source": [
        "True and True and True and True  # all conditions should be true AND operator"
      ],
      "metadata": {
        "colab": {
          "base_uri": "https://localhost:8080/"
        },
        "id": "h2wVIk-tVssw",
        "outputId": "4f66a87a-8bea-4348-80bf-ddebd373d868"
      },
      "execution_count": null,
      "outputs": [
        {
          "output_type": "execute_result",
          "data": {
            "text/plain": [
              "False"
            ]
          },
          "metadata": {},
          "execution_count": 6
        }
      ]
    },
    {
      "cell_type": "code",
      "source": [
        "True and False and True and True #returns false"
      ],
      "metadata": {
        "id": "6RakHNaNWhie"
      },
      "execution_count": null,
      "outputs": []
    },
    {
      "cell_type": "code",
      "source": [
        "True or False or True or True #OR operator"
      ],
      "metadata": {
        "colab": {
          "base_uri": "https://localhost:8080/"
        },
        "id": "HGBwD4jqWiyh",
        "outputId": "f57b89c0-0d67-4ac9-8d60-169c6af79369"
      },
      "execution_count": null,
      "outputs": [
        {
          "output_type": "execute_result",
          "data": {
            "text/plain": [
              "True"
            ]
          },
          "metadata": {},
          "execution_count": 8
        }
      ]
    },
    {
      "cell_type": "code",
      "source": [
        "name: str = \"Ali\"\n",
        "print(not name==\"Ali\") #false"
      ],
      "metadata": {
        "colab": {
          "base_uri": "https://localhost:8080/"
        },
        "id": "3bLfehrUXpV8",
        "outputId": "54f83017-2526-4ce5-e569-f904ae6f2592"
      },
      "execution_count": null,
      "outputs": [
        {
          "output_type": "stream",
          "name": "stdout",
          "text": [
            "False\n"
          ]
        }
      ]
    },
    {
      "cell_type": "code",
      "source": [
        "name: str = \"Ali\"\n",
        "print(name==\"Ali\") #true"
      ],
      "metadata": {
        "colab": {
          "base_uri": "https://localhost:8080/"
        },
        "id": "2jXwjW3GYCFm",
        "outputId": "263d434d-7371-48d9-a2c7-c7a97ba88fc8"
      },
      "execution_count": null,
      "outputs": [
        {
          "output_type": "stream",
          "name": "stdout",
          "text": [
            "True\n"
          ]
        }
      ]
    },
    {
      "cell_type": "code",
      "source": [
        "name != name"
      ],
      "metadata": {
        "colab": {
          "base_uri": "https://localhost:8080/"
        },
        "id": "ziJocTh-YJPl",
        "outputId": "9735c5f3-0491-4734-d2ad-8ff1c62cfb4f"
      },
      "execution_count": null,
      "outputs": [
        {
          "output_type": "execute_result",
          "data": {
            "text/plain": [
              "False"
            ]
          },
          "metadata": {},
          "execution_count": 11
        }
      ]
    },
    {
      "cell_type": "code",
      "source": [
        "name==name"
      ],
      "metadata": {
        "colab": {
          "base_uri": "https://localhost:8080/"
        },
        "id": "tEkUNp4Ea-Bq",
        "outputId": "53a036c4-8375-43d0-f588-61f79d7de6a0"
      },
      "execution_count": null,
      "outputs": [
        {
          "output_type": "execute_result",
          "data": {
            "text/plain": [
              "True"
            ]
          },
          "metadata": {},
          "execution_count": 13
        }
      ]
    },
    {
      "cell_type": "markdown",
      "source": [
        "# In operator"
      ],
      "metadata": {
        "id": "u7h9rkVnenxs"
      }
    },
    {
      "cell_type": "code",
      "source": [
        "alphabets : list[str] = [chr(i) for i in range(65, 91)]\n",
        "print(alphabets)"
      ],
      "metadata": {
        "colab": {
          "base_uri": "https://localhost:8080/"
        },
        "id": "kYqIQF6BeuCK",
        "outputId": "b73dcf08-6c7d-4bd7-fe04-85e013d9a2df"
      },
      "execution_count": null,
      "outputs": [
        {
          "output_type": "stream",
          "name": "stdout",
          "text": [
            "['A', 'B', 'C', 'D', 'E', 'F', 'G', 'H', 'I', 'J', 'K', 'L', 'M', 'N', 'O', 'P', 'Q', 'R', 'S', 'T', 'U', 'V', 'W', 'X', 'Y', 'Z']\n"
          ]
        }
      ]
    },
    {
      "cell_type": "code",
      "source": [
        "char : list[str] = [chr(i) for i in range(65, 91)]\n",
        "print(char)\n",
        "#before in operator we find in range like this\n",
        "\n",
        "for i in range(len(char)):\n",
        "  print(i, char[i])\n",
        "  if char[i] == \"A\":\n",
        "    print(\"True\")\n",
        "    break"
      ],
      "metadata": {
        "colab": {
          "base_uri": "https://localhost:8080/"
        },
        "id": "l2AgIOX4fq6o",
        "outputId": "2aa4c4e9-dab0-4008-a1cd-f13c78ac3882"
      },
      "execution_count": null,
      "outputs": [
        {
          "output_type": "stream",
          "name": "stdout",
          "text": [
            "['A', 'B', 'C', 'D', 'E', 'F', 'G', 'H', 'I', 'J', 'K', 'L', 'M', 'N', 'O', 'P', 'Q', 'R', 'S', 'T', 'U', 'V', 'W', 'X', 'Y', 'Z']\n",
            "0 A\n",
            "True\n"
          ]
        }
      ]
    },
    {
      "cell_type": "code",
      "source": [
        "# Now we find like this\n",
        "\n",
        "\"A\" in char"
      ],
      "metadata": {
        "colab": {
          "base_uri": "https://localhost:8080/"
        },
        "id": "3Xk0E-GHg2oo",
        "outputId": "14fe7486-337d-4acb-cf32-7adcf213b5c3"
      },
      "execution_count": null,
      "outputs": [
        {
          "output_type": "execute_result",
          "data": {
            "text/plain": [
              "True"
            ]
          },
          "metadata": {},
          "execution_count": 21
        }
      ]
    },
    {
      "cell_type": "code",
      "source": [
        "\"A\" not in char"
      ],
      "metadata": {
        "colab": {
          "base_uri": "https://localhost:8080/"
        },
        "id": "_5vDq7ejhZ6l",
        "outputId": "efaaa047-3346-4690-8e26-eb46582b13f0"
      },
      "execution_count": null,
      "outputs": [
        {
          "output_type": "execute_result",
          "data": {
            "text/plain": [
              "False"
            ]
          },
          "metadata": {},
          "execution_count": 22
        }
      ]
    },
    {
      "cell_type": "code",
      "source": [],
      "metadata": {
        "id": "JJEsN5kohh6j"
      },
      "execution_count": null,
      "outputs": []
    },
    {
      "cell_type": "markdown",
      "source": [
        "**is and is not:**\n",
        "\n",
        "These operators check whether two variables or objects refer to the same memory location.\n",
        "\n",
        "**==:**\n",
        "\n",
        "This operator checks if the values of two variables or objects are equal."
      ],
      "metadata": {
        "id": "YicEL5TEhyg8"
      }
    },
    {
      "cell_type": "markdown",
      "source": [
        "## Input Function\n",
        "Take user input runtime"
      ],
      "metadata": {
        "id": "tXVz12dzjJ-i"
      }
    },
    {
      "cell_type": "code",
      "source": [
        "names : list[str] = ['Ali', 'Muhammad', 'Hafiz']\n",
        "\n",
        "user_input : str = input(\"Enter Your Name: \")\n",
        "\n",
        "user_input in names"
      ],
      "metadata": {
        "colab": {
          "base_uri": "https://localhost:8080/"
        },
        "id": "1CyVe4mAjTHW",
        "outputId": "3f19caf7-c215-4ca2-fe44-1a1b9b16667c"
      },
      "execution_count": null,
      "outputs": [
        {
          "name": "stdout",
          "output_type": "stream",
          "text": [
            "Enter Your Name: Muhammad\n"
          ]
        },
        {
          "output_type": "execute_result",
          "data": {
            "text/plain": [
              "True"
            ]
          },
          "metadata": {},
          "execution_count": 25
        }
      ]
    },
    {
      "cell_type": "markdown",
      "source": [
        "# Operators' Precedence in Python\n",
        "PEMDAS (Power Exponent Multiplication Division Addition Subtraction)"
      ],
      "metadata": {
        "id": "H4j6tO67k9nW"
      }
    },
    {
      "cell_type": "code",
      "source": [
        "print(4 + 5 - 6 * 3 / 2 % 4)"
      ],
      "metadata": {
        "colab": {
          "base_uri": "https://localhost:8080/"
        },
        "id": "OXcKEK2llGWB",
        "outputId": "eda52745-d2ec-4ad8-e9f4-e31af28d76ba"
      },
      "execution_count": null,
      "outputs": [
        {
          "output_type": "stream",
          "name": "stdout",
          "text": [
            "8.0\n"
          ]
        }
      ]
    }
  ]
}