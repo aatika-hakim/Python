{
  "nbformat": 4,
  "nbformat_minor": 0,
  "metadata": {
    "colab": {
      "provenance": [],
      "authorship_tag": "ABX9TyNWX3t6Qk4ynzB+Ck9OKgUu",
      "include_colab_link": true
    },
    "kernelspec": {
      "name": "python3",
      "display_name": "Python 3"
    },
    "language_info": {
      "name": "python"
    }
  },
  "cells": [
    {
      "cell_type": "markdown",
      "metadata": {
        "id": "view-in-github",
        "colab_type": "text"
      },
      "source": [
        "<a href=\"https://colab.research.google.com/github/aatika-hakim/Python/blob/main/Class3.ipynb\" target=\"_parent\"><img src=\"https://colab.research.google.com/assets/colab-badge.svg\" alt=\"Open In Colab\"/></a>"
      ]
    },
    {
      "cell_type": "markdown",
      "source": [
        "# Identity Operators\n",
        "\n",
        "* 0 is    returns true if both are the same object in memory\n",
        "\n",
        "* 1 is not  returns true if both are not the same object in memory"
      ],
      "metadata": {
        "id": "844E3YcKaUpn"
      }
    },
    {
      "cell_type": "code",
      "source": [
        "x: str = \"abc\"\n",
        "y: str = \"bcd\"\n",
        "\n",
        "print(id(x))\n",
        "print(id(y))\n",
        "\n",
        "x is not y\n",
        "x is y"
      ],
      "metadata": {
        "id": "PCIsCjmTxvkl",
        "colab": {
          "base_uri": "https://localhost:8080/"
        },
        "outputId": "78246e87-43ec-4c5e-b30e-f331ba998aa3"
      },
      "execution_count": 4,
      "outputs": [
        {
          "output_type": "stream",
          "name": "stdout",
          "text": [
            "139535551418608\n",
            "139535123120368\n"
          ]
        },
        {
          "output_type": "execute_result",
          "data": {
            "text/plain": [
              "False"
            ]
          },
          "metadata": {},
          "execution_count": 4
        }
      ]
    },
    {
      "cell_type": "markdown",
      "source": [
        "# Logical Operators\n",
        "\n",
        "and\n",
        "or"
      ],
      "metadata": {
        "id": "GPx80eDdaqgt"
      }
    },
    {
      "cell_type": "code",
      "source": [
        "True and True and True and True  # all conditions should be true AND operator"
      ],
      "metadata": {
        "colab": {
          "base_uri": "https://localhost:8080/"
        },
        "id": "h2wVIk-tVssw",
        "outputId": "4f66a87a-8bea-4348-80bf-ddebd373d868"
      },
      "execution_count": 6,
      "outputs": [
        {
          "output_type": "execute_result",
          "data": {
            "text/plain": [
              "False"
            ]
          },
          "metadata": {},
          "execution_count": 6
        }
      ]
    },
    {
      "cell_type": "code",
      "source": [
        "True and False and True and True #returns false"
      ],
      "metadata": {
        "id": "6RakHNaNWhie"
      },
      "execution_count": null,
      "outputs": []
    },
    {
      "cell_type": "code",
      "source": [
        "True or False or True or True #OR operator"
      ],
      "metadata": {
        "colab": {
          "base_uri": "https://localhost:8080/"
        },
        "id": "HGBwD4jqWiyh",
        "outputId": "f57b89c0-0d67-4ac9-8d60-169c6af79369"
      },
      "execution_count": 8,
      "outputs": [
        {
          "output_type": "execute_result",
          "data": {
            "text/plain": [
              "True"
            ]
          },
          "metadata": {},
          "execution_count": 8
        }
      ]
    },
    {
      "cell_type": "code",
      "source": [
        "name: str = \"Ali\"\n",
        "print(not name==\"Ali\") #false"
      ],
      "metadata": {
        "colab": {
          "base_uri": "https://localhost:8080/"
        },
        "id": "3bLfehrUXpV8",
        "outputId": "54f83017-2526-4ce5-e569-f904ae6f2592"
      },
      "execution_count": 9,
      "outputs": [
        {
          "output_type": "stream",
          "name": "stdout",
          "text": [
            "False\n"
          ]
        }
      ]
    },
    {
      "cell_type": "code",
      "source": [
        "name: str = \"Ali\"\n",
        "print(name==\"Ali\") #true"
      ],
      "metadata": {
        "colab": {
          "base_uri": "https://localhost:8080/"
        },
        "id": "2jXwjW3GYCFm",
        "outputId": "263d434d-7371-48d9-a2c7-c7a97ba88fc8"
      },
      "execution_count": 10,
      "outputs": [
        {
          "output_type": "stream",
          "name": "stdout",
          "text": [
            "True\n"
          ]
        }
      ]
    },
    {
      "cell_type": "code",
      "source": [
        "name != name"
      ],
      "metadata": {
        "colab": {
          "base_uri": "https://localhost:8080/"
        },
        "id": "ziJocTh-YJPl",
        "outputId": "9735c5f3-0491-4734-d2ad-8ff1c62cfb4f"
      },
      "execution_count": 11,
      "outputs": [
        {
          "output_type": "execute_result",
          "data": {
            "text/plain": [
              "False"
            ]
          },
          "metadata": {},
          "execution_count": 11
        }
      ]
    },
    {
      "cell_type": "code",
      "source": [
        "name==name"
      ],
      "metadata": {
        "colab": {
          "base_uri": "https://localhost:8080/"
        },
        "id": "tEkUNp4Ea-Bq",
        "outputId": "53a036c4-8375-43d0-f588-61f79d7de6a0"
      },
      "execution_count": 13,
      "outputs": [
        {
          "output_type": "execute_result",
          "data": {
            "text/plain": [
              "True"
            ]
          },
          "metadata": {},
          "execution_count": 13
        }
      ]
    },
    {
      "cell_type": "code",
      "source": [],
      "metadata": {
        "id": "MhL9xfNqb81Q"
      },
      "execution_count": null,
      "outputs": []
    },
    {
      "cell_type": "code",
      "source": [],
      "metadata": {
        "id": "hflA6hDbb9Ba"
      },
      "execution_count": null,
      "outputs": []
    }
  ]
}