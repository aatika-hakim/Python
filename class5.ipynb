{
  "nbformat": 4,
  "nbformat_minor": 0,
  "metadata": {
    "colab": {
      "provenance": [],
      "authorship_tag": "ABX9TyMkLPylcmdiPA9+pHR+Yn67",
      "include_colab_link": true
    },
    "kernelspec": {
      "name": "python3",
      "display_name": "Python 3"
    },
    "language_info": {
      "name": "python"
    }
  },
  "cells": [
    {
      "cell_type": "markdown",
      "metadata": {
        "id": "view-in-github",
        "colab_type": "text"
      },
      "source": [
        "<a href=\"https://colab.research.google.com/github/aatika-hakim/Python/blob/main/class5.ipynb\" target=\"_parent\"><img src=\"https://colab.research.google.com/assets/colab-badge.svg\" alt=\"Open In Colab\"/></a>"
      ]
    },
    {
      "cell_type": "markdown",
      "source": [
        "# **List Comprehensions, Tuples, For Loops, and the unique For-Else construct**"
      ],
      "metadata": {
        "id": "9R-xAZINiQbO"
      }
    },
    {
      "cell_type": "markdown",
      "source": [
        "* iteration performing\n",
        "* applying operations on element"
      ],
      "metadata": {
        "id": "kYGu08V-kRaC"
      }
    },
    {
      "cell_type": "code",
      "execution_count": 2,
      "metadata": {
        "colab": {
          "base_uri": "https://localhost:8080/"
        },
        "id": "b37Mv3QUiNdN",
        "outputId": "ec537a9d-40ba-45cc-97f5-ea526925798f"
      },
      "outputs": [
        {
          "output_type": "stream",
          "name": "stdout",
          "text": [
            "['Ali', 'Muhammad', 'Alif']\n"
          ]
        }
      ],
      "source": [
        "names : list[str] = [\"Ali\", \"Muhammad\", \"Alif\"]\n",
        "\n",
        "names"
      ]
    },
    {
      "cell_type": "code",
      "source": [
        "names : list[str] = [\"Ali\", \"Muhammad\", \"Alif\"]\n",
        "\n",
        "for name in names:\n",
        "  print(name)"
      ],
      "metadata": {
        "colab": {
          "base_uri": "https://localhost:8080/"
        },
        "id": "GoyHvsA4iP9F",
        "outputId": "521c087c-f247-48bc-8e67-5ffcf413cef3"
      },
      "execution_count": 38,
      "outputs": [
        {
          "output_type": "stream",
          "name": "stdout",
          "text": [
            "Ali\n",
            "Muhammad\n",
            "Alif\n"
          ]
        }
      ]
    },
    {
      "cell_type": "code",
      "source": [
        "names : list[str] = [\"Ali\", \"Muhammad\", \"Alif\"]\n",
        "\n",
        "for name in names:\n",
        "  print(f'Hello {name.title()}')\n",
        "  print(\"Learning python\\n\")\n",
        "\n",
        "print(\"hi\")  #not part of loop"
      ],
      "metadata": {
        "colab": {
          "base_uri": "https://localhost:8080/"
        },
        "id": "uQ3gYUTpllv7",
        "outputId": "06a9d2ae-3121-49c2-b43d-339dc485408f"
      },
      "execution_count": 13,
      "outputs": [
        {
          "output_type": "stream",
          "name": "stdout",
          "text": [
            "Hello Ali\n",
            "Learning python\n",
            "\n",
            "Hello Muhammad\n",
            "Learning python\n",
            "\n",
            "Hello Alif\n",
            "Learning python\n",
            "\n",
            "hi\n"
          ]
        }
      ]
    },
    {
      "cell_type": "code",
      "source": [
        "names : list[str] = [\"Ali\", \"Muhammad\", \"Alif\"]\n",
        "\n",
        "for name in names[:2]: #slicing we can perform anything with specific element\n",
        "  print(name)"
      ],
      "metadata": {
        "colab": {
          "base_uri": "https://localhost:8080/"
        },
        "id": "It1UTGaMnwk_",
        "outputId": "333fcd07-70cb-4d63-e562-4c04d4d51489"
      },
      "execution_count": 15,
      "outputs": [
        {
          "output_type": "stream",
          "name": "stdout",
          "text": [
            "Ali\n",
            "Muhammad\n"
          ]
        }
      ]
    },
    {
      "cell_type": "code",
      "source": [
        "database : list[tuple(str, int)] = [('ali', 12),\n",
        "                                    ('Ali', 34)\n",
        "                                    ]\n",
        "for i in database:\n",
        "  print(i)"
      ],
      "metadata": {
        "colab": {
          "base_uri": "https://localhost:8080/",
          "height": 211
        },
        "id": "JSgR8Fzart3K",
        "outputId": "edf9bb69-53f4-4e03-ba68-5eeb55a488b3"
      },
      "execution_count": 18,
      "outputs": [
        {
          "output_type": "error",
          "ename": "TypeError",
          "evalue": "tuple expected at most 1 argument, got 2",
          "traceback": [
            "\u001b[0;31m---------------------------------------------------------------------------\u001b[0m",
            "\u001b[0;31mTypeError\u001b[0m                                 Traceback (most recent call last)",
            "\u001b[0;32m<ipython-input-18-8e1f63dab673>\u001b[0m in \u001b[0;36m<cell line: 1>\u001b[0;34m()\u001b[0m\n\u001b[0;32m----> 1\u001b[0;31m database : list[tuple(str, int)] = [('ali', 12),\n\u001b[0m\u001b[1;32m      2\u001b[0m                                     \u001b[0;34m(\u001b[0m\u001b[0;34m'Ali'\u001b[0m\u001b[0;34m,\u001b[0m \u001b[0;36m34\u001b[0m\u001b[0;34m)\u001b[0m\u001b[0;34m\u001b[0m\u001b[0;34m\u001b[0m\u001b[0m\n\u001b[1;32m      3\u001b[0m                                     ]\n\u001b[1;32m      4\u001b[0m \u001b[0;32mfor\u001b[0m \u001b[0mi\u001b[0m \u001b[0;32min\u001b[0m \u001b[0mdatabase\u001b[0m\u001b[0;34m:\u001b[0m\u001b[0;34m\u001b[0m\u001b[0;34m\u001b[0m\u001b[0m\n\u001b[1;32m      5\u001b[0m   \u001b[0mprint\u001b[0m\u001b[0;34m(\u001b[0m\u001b[0mi\u001b[0m\u001b[0;34m)\u001b[0m\u001b[0;34m\u001b[0m\u001b[0;34m\u001b[0m\u001b[0m\n",
            "\u001b[0;31mTypeError\u001b[0m: tuple expected at most 1 argument, got 2"
          ]
        }
      ]
    },
    {
      "cell_type": "code",
      "source": [
        "database : list[tuple[str, int]] = [('ali', 12),\n",
        "                                    ('Ali', 34)\n",
        "                                    ]\n",
        "for i in database:\n",
        "  print(i)"
      ],
      "metadata": {
        "colab": {
          "base_uri": "https://localhost:8080/"
        },
        "id": "gCaKgp4eoKz6",
        "outputId": "3271366d-0a50-42b2-a093-d90261690265"
      },
      "execution_count": 17,
      "outputs": [
        {
          "output_type": "stream",
          "name": "stdout",
          "text": [
            "('ali', 12)\n",
            "('Ali', 34)\n"
          ]
        }
      ]
    },
    {
      "cell_type": "code",
      "source": [
        "# how to unzip data\n",
        "database : list[tuple[str, int]] = [('ali', 12),\n",
        "                                    ('Ali', 34)\n",
        "                                    ]\n",
        "for i in database:\n",
        "  user, password = i\n",
        "  print(user, password)"
      ],
      "metadata": {
        "colab": {
          "base_uri": "https://localhost:8080/"
        },
        "id": "vd6x4pe9rnvJ",
        "outputId": "f94531ba-3de3-44aa-cd0b-7643e32e8a03"
      },
      "execution_count": 19,
      "outputs": [
        {
          "output_type": "stream",
          "name": "stdout",
          "text": [
            "ali 12\n",
            "Ali 34\n"
          ]
        }
      ]
    },
    {
      "cell_type": "code",
      "source": [
        "database : list[tuple[str, int]] = [('ali', 12),\n",
        "                                    ('Ali', 34)\n",
        "                                   ]\n",
        "input_user : str = input(\"Enter username: \")\n",
        "input_password : str = input(\"Enter user password: \")\n",
        "\n",
        "for i in database:\n",
        "  user, password = i\n",
        "  if input_user == user and input_password == password:\n",
        "    print(\"Valid user\")\n",
        "    break"
      ],
      "metadata": {
        "colab": {
          "base_uri": "https://localhost:8080/"
        },
        "id": "K5X1Y8unsmZK",
        "outputId": "4623b143-a5d4-4c5d-ab89-ed4a8f29eaf0"
      },
      "execution_count": 24,
      "outputs": [
        {
          "name": "stdout",
          "output_type": "stream",
          "text": [
            "Enter username: ali\n",
            "Enter user password: 12\n"
          ]
        }
      ]
    },
    {
      "cell_type": "code",
      "source": [
        "database : list[tuple[str, str]] = [('ali', '12'),\n",
        "                                    ('Ali', '34')\n",
        "                                   ]\n",
        "input_user : str = input(\"Enter username: \")\n",
        "input_password : str = input(\"Enter user password: \")\n",
        "\n",
        "for i in database:\n",
        "  user, password = i\n",
        "  if input_user == user and input_password == password:\n",
        "    print(\"Valid user\")\n",
        "    break\n",
        "\n",
        "else:\n",
        "    print(\"InValid User\")"
      ],
      "metadata": {
        "colab": {
          "base_uri": "https://localhost:8080/"
        },
        "id": "NOnhDrtUwFo0",
        "outputId": "963852af-3248-409d-f8c6-0b7638513018"
      },
      "execution_count": 33,
      "outputs": [
        {
          "output_type": "stream",
          "name": "stdout",
          "text": [
            "Enter username: Ali\n",
            "Enter user password: 34\n",
            "Valid user\n"
          ]
        }
      ]
    },
    {
      "cell_type": "code",
      "source": [
        "database : list[tuple[str, str]] = [('ali', '12'),\n",
        "                                    ('Ali', '34')\n",
        "                                   ]\n",
        "input_user : str = input(\"Enter username: \")\n",
        "input_password : str = input(\"Enter user password: \")\n",
        "\n",
        "for i in database:\n",
        "  user, password = i #('ali', '12')\n",
        "  if input_user == user and input_password == password:\n",
        "    print(\"Valid user\")\n",
        "    break\n",
        "\n",
        "else:\n",
        "    print(\"InValid User\")"
      ],
      "metadata": {
        "colab": {
          "base_uri": "https://localhost:8080/"
        },
        "id": "TiG5uaxfubXt",
        "outputId": "e1e307e5-62c2-43e3-9dd4-5d13b795d78c"
      },
      "execution_count": 32,
      "outputs": [
        {
          "output_type": "stream",
          "name": "stdout",
          "text": [
            "Enter username: h\n",
            "Enter user password: 23\n",
            "InValid User\n"
          ]
        }
      ]
    },
    {
      "cell_type": "code",
      "source": [
        "names : list[str] = [\"Ali\", \"Muhammad\", \"Alif\"]\n",
        "\n",
        "for name in names:\n",
        "  print(name)\n",
        "  break\n",
        "else:    #elseblock execute when all the iteration successfully performed in for loop\n",
        "  print(\"hello\")"
      ],
      "metadata": {
        "colab": {
          "base_uri": "https://localhost:8080/"
        },
        "id": "eFBqnsgywXjY",
        "outputId": "35359240-ca31-4363-e0d3-0f8639232945"
      },
      "execution_count": 36,
      "outputs": [
        {
          "output_type": "stream",
          "name": "stdout",
          "text": [
            "Ali\n"
          ]
        }
      ]
    },
    {
      "cell_type": "code",
      "source": [
        "names : list[str] = [\"Ali\", \"Muhammad\", \"Alif\"]\n",
        "\n",
        "for name in names:\n",
        "  print(name)\n",
        "  break\n",
        "print(\"hello\")"
      ],
      "metadata": {
        "colab": {
          "base_uri": "https://localhost:8080/"
        },
        "id": "I4uhgjAsyZPr",
        "outputId": "72626582-f1ed-44b2-8460-e66299aa001d"
      },
      "execution_count": 37,
      "outputs": [
        {
          "output_type": "stream",
          "name": "stdout",
          "text": [
            "Ali\n",
            "hello\n"
          ]
        }
      ]
    },
    {
      "cell_type": "code",
      "source": [],
      "metadata": {
        "id": "06bZxFZLzaLJ"
      },
      "execution_count": null,
      "outputs": []
    },
    {
      "cell_type": "markdown",
      "source": [
        "# Errors\n",
        "\n",
        "* Indentation error\n",
        "* Syntax error"
      ],
      "metadata": {
        "id": "ixGIQY7T0KOr"
      }
    },
    {
      "cell_type": "code",
      "source": [
        "#Indentation error\n",
        "names : list[str] = [\"Ali\", \"Muhammad\", \"Alif\"]\n",
        "\n",
        "for name in names:\n",
        "print(name)\n"
      ],
      "metadata": {
        "colab": {
          "base_uri": "https://localhost:8080/",
          "height": 106
        },
        "id": "Zm9j7y4Kykjd",
        "outputId": "3d6548d6-319e-402d-d9f3-7dffbd59fcf4"
      },
      "execution_count": 39,
      "outputs": [
        {
          "output_type": "error",
          "ename": "IndentationError",
          "evalue": "expected an indented block after 'for' statement on line 4 (<ipython-input-39-02741d7e71d5>, line 5)",
          "traceback": [
            "\u001b[0;36m  File \u001b[0;32m\"<ipython-input-39-02741d7e71d5>\"\u001b[0;36m, line \u001b[0;32m5\u001b[0m\n\u001b[0;31m    print(name)\u001b[0m\n\u001b[0m    ^\u001b[0m\n\u001b[0;31mIndentationError\u001b[0m\u001b[0;31m:\u001b[0m expected an indented block after 'for' statement on line 4\n"
          ]
        }
      ]
    },
    {
      "cell_type": "code",
      "source": [
        "#Syntax error\n",
        "names : list[str] = [\"Ali\", \"Muhammad\", \"Alif\"]\n",
        "\n",
        "for name in names\n",
        "  print(name)"
      ],
      "metadata": {
        "colab": {
          "base_uri": "https://localhost:8080/",
          "height": 106
        },
        "id": "RD3zxJ8l0cAg",
        "outputId": "b0568550-e306-4134-df65-f8a70f7109fc"
      },
      "execution_count": 40,
      "outputs": [
        {
          "output_type": "error",
          "ename": "SyntaxError",
          "evalue": "expected ':' (<ipython-input-40-66fd228f20dc>, line 4)",
          "traceback": [
            "\u001b[0;36m  File \u001b[0;32m\"<ipython-input-40-66fd228f20dc>\"\u001b[0;36m, line \u001b[0;32m4\u001b[0m\n\u001b[0;31m    for name in names\u001b[0m\n\u001b[0m                     ^\u001b[0m\n\u001b[0;31mSyntaxError\u001b[0m\u001b[0;31m:\u001b[0m expected ':'\n"
          ]
        }
      ]
    },
    {
      "cell_type": "code",
      "source": [
        "names : list[str] = [\"Ali\", \"Muhammad\", \"Alif\"]\n",
        "\n",
        "for name in names:\n",
        "  print(name.upper())"
      ],
      "metadata": {
        "colab": {
          "base_uri": "https://localhost:8080/"
        },
        "id": "qrPDOf621YZH",
        "outputId": "d5507451-d479-4a62-8f17-8861f49ca602"
      },
      "execution_count": 42,
      "outputs": [
        {
          "output_type": "stream",
          "name": "stdout",
          "text": [
            "ALI\n",
            "MUHAMMAD\n",
            "ALIF\n"
          ]
        }
      ]
    },
    {
      "cell_type": "code",
      "source": [
        "names : list[str] = [\"Ali\", \"Muhammad\", \"Alif\"]\n",
        "\n",
        "for name in names:\n",
        "  print(f\"hello, {name.upper()}\")\n",
        "\n",
        "print(f\"hello {name.upper()}! Are you learning python?\")"
      ],
      "metadata": {
        "colab": {
          "base_uri": "https://localhost:8080/"
        },
        "id": "SM96PnIJ1k9W",
        "outputId": "f741bdf0-f92d-404b-90f0-b11263aa6040"
      },
      "execution_count": 45,
      "outputs": [
        {
          "output_type": "stream",
          "name": "stdout",
          "text": [
            "hello, ALI\n",
            "hello, MUHAMMAD\n",
            "hello, ALIF\n",
            "hello ALIF! Are you learning python?\n"
          ]
        }
      ]
    },
    {
      "cell_type": "markdown",
      "source": [
        "**Note:**\n",
        "The local variable is accessible only in the function's block.\n",
        "In python, the speciality of the loop is that whatever is inside the loop the last varaible is accessible from the outside the loop body."
      ],
      "metadata": {
        "id": "UqBvd5yE2jnr"
      }
    }
  ]
}