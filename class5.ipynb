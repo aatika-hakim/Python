{
  "nbformat": 4,
  "nbformat_minor": 0,
  "metadata": {
    "colab": {
      "provenance": [],
      "authorship_tag": "ABX9TyPxEnSOy+G9ofZX4eFdVixl",
      "include_colab_link": true
    },
    "kernelspec": {
      "name": "python3",
      "display_name": "Python 3"
    },
    "language_info": {
      "name": "python"
    }
  },
  "cells": [
    {
      "cell_type": "markdown",
      "metadata": {
        "id": "view-in-github",
        "colab_type": "text"
      },
      "source": [
        "<a href=\"https://colab.research.google.com/github/aatika-hakim/Python/blob/main/class5.ipynb\" target=\"_parent\"><img src=\"https://colab.research.google.com/assets/colab-badge.svg\" alt=\"Open In Colab\"/></a>"
      ]
    },
    {
      "cell_type": "markdown",
      "source": [
        "# **List Comprehensions, Tuples, For Loops, and the unique For-Else construct**"
      ],
      "metadata": {
        "id": "9R-xAZINiQbO"
      }
    },
    {
      "cell_type": "markdown",
      "source": [
        "* iteration performing\n",
        "* applying operations on element"
      ],
      "metadata": {
        "id": "kYGu08V-kRaC"
      }
    },
    {
      "cell_type": "code",
      "execution_count": 2,
      "metadata": {
        "colab": {
          "base_uri": "https://localhost:8080/"
        },
        "id": "b37Mv3QUiNdN",
        "outputId": "9831e84b-a152-4f44-8033-30eece508a7f"
      },
      "outputs": [
        {
          "output_type": "execute_result",
          "data": {
            "text/plain": [
              "['Ali', 'Muhammad', 'Alif']"
            ]
          },
          "metadata": {},
          "execution_count": 2
        }
      ],
      "source": [
        "names : list[str] = [\"Ali\", \"Muhammad\", \"Alif\"]\n",
        "\n",
        "names"
      ]
    },
    {
      "cell_type": "code",
      "source": [
        "names : list[str] = [\"Ali\", \"Muhammad\", \"Alif\"]\n",
        "\n",
        "for name in names:\n",
        "  print(name)"
      ],
      "metadata": {
        "colab": {
          "base_uri": "https://localhost:8080/"
        },
        "id": "GoyHvsA4iP9F",
        "outputId": "a1a09c91-6edf-4626-9858-e183efcc452c"
      },
      "execution_count": 3,
      "outputs": [
        {
          "output_type": "stream",
          "name": "stdout",
          "text": [
            "Ali\n",
            "Muhammad\n",
            "Alif\n"
          ]
        }
      ]
    },
    {
      "cell_type": "code",
      "source": [
        "names : list[str] = [\"Ali\", \"Muhammad\", \"Alif\"]\n",
        "\n",
        "for name in names:\n",
        "  print(f'Hello {name.title()}')\n",
        "  print(\"Learning python\\n\")\n",
        "\n",
        "print(\"hi\")  #not part of loop"
      ],
      "metadata": {
        "colab": {
          "base_uri": "https://localhost:8080/"
        },
        "id": "uQ3gYUTpllv7",
        "outputId": "a984572e-b6f7-4b0d-dcbe-06cb07fb1385"
      },
      "execution_count": 4,
      "outputs": [
        {
          "output_type": "stream",
          "name": "stdout",
          "text": [
            "Hello Ali\n",
            "Learning python\n",
            "\n",
            "Hello Muhammad\n",
            "Learning python\n",
            "\n",
            "Hello Alif\n",
            "Learning python\n",
            "\n",
            "hi\n"
          ]
        }
      ]
    },
    {
      "cell_type": "code",
      "source": [
        "names : list[str] = [\"Ali\", \"Muhammad\", \"Alif\"]\n",
        "\n",
        "for name in names[:2]: #slicing we can perform anything with specific element\n",
        "  print(name)"
      ],
      "metadata": {
        "colab": {
          "base_uri": "https://localhost:8080/"
        },
        "id": "It1UTGaMnwk_",
        "outputId": "3309102a-ef84-49d4-f654-337728d2caf8"
      },
      "execution_count": 5,
      "outputs": [
        {
          "output_type": "stream",
          "name": "stdout",
          "text": [
            "Ali\n",
            "Muhammad\n"
          ]
        }
      ]
    },
    {
      "cell_type": "code",
      "source": [
        "database : list[tuple(str, int)] = [('ali', 12),\n",
        "                                    ('Ali', 34)\n",
        "                                    ]\n",
        "for i in database:\n",
        "  print(i)"
      ],
      "metadata": {
        "colab": {
          "base_uri": "https://localhost:8080/",
          "height": 211
        },
        "id": "JSgR8Fzart3K",
        "outputId": "b6571e2f-5624-452d-87a8-764e76297207"
      },
      "execution_count": 6,
      "outputs": [
        {
          "output_type": "error",
          "ename": "TypeError",
          "evalue": "tuple expected at most 1 argument, got 2",
          "traceback": [
            "\u001b[0;31m---------------------------------------------------------------------------\u001b[0m",
            "\u001b[0;31mTypeError\u001b[0m                                 Traceback (most recent call last)",
            "\u001b[0;32m<ipython-input-6-8e1f63dab673>\u001b[0m in \u001b[0;36m<cell line: 1>\u001b[0;34m()\u001b[0m\n\u001b[0;32m----> 1\u001b[0;31m database : list[tuple(str, int)] = [('ali', 12),\n\u001b[0m\u001b[1;32m      2\u001b[0m                                     \u001b[0;34m(\u001b[0m\u001b[0;34m'Ali'\u001b[0m\u001b[0;34m,\u001b[0m \u001b[0;36m34\u001b[0m\u001b[0;34m)\u001b[0m\u001b[0;34m\u001b[0m\u001b[0;34m\u001b[0m\u001b[0m\n\u001b[1;32m      3\u001b[0m                                     ]\n\u001b[1;32m      4\u001b[0m \u001b[0;32mfor\u001b[0m \u001b[0mi\u001b[0m \u001b[0;32min\u001b[0m \u001b[0mdatabase\u001b[0m\u001b[0;34m:\u001b[0m\u001b[0;34m\u001b[0m\u001b[0;34m\u001b[0m\u001b[0m\n\u001b[1;32m      5\u001b[0m   \u001b[0mprint\u001b[0m\u001b[0;34m(\u001b[0m\u001b[0mi\u001b[0m\u001b[0;34m)\u001b[0m\u001b[0;34m\u001b[0m\u001b[0;34m\u001b[0m\u001b[0m\n",
            "\u001b[0;31mTypeError\u001b[0m: tuple expected at most 1 argument, got 2"
          ]
        }
      ]
    },
    {
      "cell_type": "code",
      "source": [
        "database : list[tuple[str, int]] = [('ali', 12),\n",
        "                                    ('Ali', 34)\n",
        "                                    ]\n",
        "for i in database:\n",
        "  print(i)"
      ],
      "metadata": {
        "id": "gCaKgp4eoKz6"
      },
      "execution_count": null,
      "outputs": []
    },
    {
      "cell_type": "code",
      "source": [
        "# how to unzip data\n",
        "database : list[tuple[str, int]] = [('ali', 12),\n",
        "                                    ('Ali', 34)\n",
        "                                    ]\n",
        "for i in database:\n",
        "  user, password = i\n",
        "  print(user, password)"
      ],
      "metadata": {
        "id": "vd6x4pe9rnvJ"
      },
      "execution_count": null,
      "outputs": []
    },
    {
      "cell_type": "code",
      "source": [
        "database : list[tuple[str, int]] = [('ali', 12),\n",
        "                                    ('Ali', 34)\n",
        "                                   ]\n",
        "input_user : str = input(\"Enter username: \")\n",
        "input_password : str = input(\"Enter user password: \")\n",
        "\n",
        "for i in database:\n",
        "  user, password = i\n",
        "  if input_user == user and input_password == password:\n",
        "    print(\"Valid user\")\n",
        "    break"
      ],
      "metadata": {
        "id": "K5X1Y8unsmZK"
      },
      "execution_count": null,
      "outputs": []
    },
    {
      "cell_type": "code",
      "source": [
        "database : list[tuple[str, str]] = [('ali', '12'),\n",
        "                                    ('Ali', '34')\n",
        "                                   ]\n",
        "input_user : str = input(\"Enter username: \")\n",
        "input_password : str = input(\"Enter user password: \")\n",
        "\n",
        "for i in database:\n",
        "  user, password = i\n",
        "  if input_user == user and input_password == password:\n",
        "    print(\"Valid user\")\n",
        "    break\n",
        "\n",
        "else:\n",
        "    print(\"InValid User\")"
      ],
      "metadata": {
        "id": "NOnhDrtUwFo0"
      },
      "execution_count": null,
      "outputs": []
    },
    {
      "cell_type": "code",
      "source": [
        "database : list[tuple[str, str]] = [('ali', '12'),\n",
        "                                    ('Ali', '34')\n",
        "                                   ]\n",
        "input_user : str = input(\"Enter username: \")\n",
        "input_password : str = input(\"Enter user password: \")\n",
        "\n",
        "for i in database:\n",
        "  user, password = i #('ali', '12')\n",
        "  if input_user == user and input_password == password:\n",
        "    print(\"Valid user\")\n",
        "    break\n",
        "\n",
        "else:\n",
        "    print(\"InValid User\")"
      ],
      "metadata": {
        "id": "TiG5uaxfubXt"
      },
      "execution_count": null,
      "outputs": []
    },
    {
      "cell_type": "code",
      "source": [
        "names : list[str] = [\"Ali\", \"Muhammad\", \"Alif\"]\n",
        "\n",
        "for name in names:\n",
        "  print(name)\n",
        "  break\n",
        "else:    #elseblock execute when all the iteration successfully performed in for loop\n",
        "  print(\"hello\")"
      ],
      "metadata": {
        "id": "eFBqnsgywXjY"
      },
      "execution_count": null,
      "outputs": []
    },
    {
      "cell_type": "code",
      "source": [
        "names : list[str] = [\"Ali\", \"Muhammad\", \"Alif\"]\n",
        "\n",
        "for name in names:\n",
        "  print(name)\n",
        "  break\n",
        "print(\"hello\")"
      ],
      "metadata": {
        "id": "I4uhgjAsyZPr"
      },
      "execution_count": null,
      "outputs": []
    },
    {
      "cell_type": "code",
      "source": [],
      "metadata": {
        "id": "06bZxFZLzaLJ"
      },
      "execution_count": null,
      "outputs": []
    },
    {
      "cell_type": "markdown",
      "source": [
        "# Errors\n",
        "\n",
        "* Indentation error\n",
        "* Syntax error"
      ],
      "metadata": {
        "id": "ixGIQY7T0KOr"
      }
    },
    {
      "cell_type": "code",
      "source": [
        "#Indentation error\n",
        "names : list[str] = [\"Ali\", \"Muhammad\", \"Alif\"]\n",
        "\n",
        "for name in names:\n",
        "print(name)\n"
      ],
      "metadata": {
        "id": "Zm9j7y4Kykjd"
      },
      "execution_count": null,
      "outputs": []
    },
    {
      "cell_type": "code",
      "source": [
        "#Syntax error\n",
        "names : list[str] = [\"Ali\", \"Muhammad\", \"Alif\"]\n",
        "\n",
        "for name in names\n",
        "  print(name)"
      ],
      "metadata": {
        "id": "RD3zxJ8l0cAg"
      },
      "execution_count": null,
      "outputs": []
    },
    {
      "cell_type": "code",
      "source": [
        "names : list[str] = [\"Ali\", \"Muhammad\", \"Alif\"]\n",
        "\n",
        "for name in names:\n",
        "  print(name.upper())"
      ],
      "metadata": {
        "id": "qrPDOf621YZH"
      },
      "execution_count": null,
      "outputs": []
    },
    {
      "cell_type": "code",
      "source": [
        "names : list[str] = [\"Ali\", \"Muhammad\", \"Alif\"]\n",
        "\n",
        "for name in names:\n",
        "  print(f\"hello, {name.upper()}\")\n",
        "\n",
        "print(f\"hello {name.upper()}! Are you learning python?\")"
      ],
      "metadata": {
        "id": "SM96PnIJ1k9W"
      },
      "execution_count": null,
      "outputs": []
    },
    {
      "cell_type": "markdown",
      "source": [
        "**Note:**\n",
        "The local variable is accessible only in the function's block.\n",
        "In python, the speciality of the loop is that whatever is inside the loop the last varaible is accessible from the outside the loop body."
      ],
      "metadata": {
        "id": "UqBvd5yE2jnr"
      }
    },
    {
      "cell_type": "markdown",
      "source": [
        "# Numbers with Loop\n",
        "  range(start, end, step)"
      ],
      "metadata": {
        "id": "cpGq58ZN4UxD"
      }
    },
    {
      "cell_type": "code",
      "source": [
        "range(10)\n",
        "# range is a generator function, it means we should give start and end to this.\n",
        "# Generator function do not run directly."
      ],
      "metadata": {
        "colab": {
          "base_uri": "https://localhost:8080/"
        },
        "id": "LuLQhiJd4JZq",
        "outputId": "07dbcf4e-267b-4afb-e8d1-d04c9a2fb5d4"
      },
      "execution_count": 7,
      "outputs": [
        {
          "output_type": "execute_result",
          "data": {
            "text/plain": [
              "range(0, 10)"
            ]
          },
          "metadata": {},
          "execution_count": 7
        }
      ]
    },
    {
      "cell_type": "code",
      "source": [
        "list(range(10)) #start = 0 and end = n-1\n",
        "#when we enter first value, by default it lasts until its one minus, when single value is inserted\n",
        "# then it run till one minus"
      ],
      "metadata": {
        "colab": {
          "base_uri": "https://localhost:8080/"
        },
        "id": "LFmB4PEv5U_V",
        "outputId": "5bb65fb0-c451-44c8-9ad5-8710e2ffd47c"
      },
      "execution_count": 8,
      "outputs": [
        {
          "output_type": "execute_result",
          "data": {
            "text/plain": [
              "[0, 1, 2, 3, 4, 5, 6, 7, 8, 9]"
            ]
          },
          "metadata": {},
          "execution_count": 8
        }
      ]
    },
    {
      "cell_type": "code",
      "source": [
        "list(range(2,21,3))  #start = 2, end = (21-1), step =3"
      ],
      "metadata": {
        "colab": {
          "base_uri": "https://localhost:8080/"
        },
        "id": "lXNspRJZ5VPz",
        "outputId": "d0195e6b-f399-4dc4-aefa-af64204ddffe"
      },
      "execution_count": 12,
      "outputs": [
        {
          "output_type": "execute_result",
          "data": {
            "text/plain": [
              "[2, 5, 8, 11, 14, 17, 20]"
            ]
          },
          "metadata": {},
          "execution_count": 12
        }
      ]
    },
    {
      "cell_type": "code",
      "source": [
        "for n in range(2,21,3):\n",
        "  print(n)"
      ],
      "metadata": {
        "colab": {
          "base_uri": "https://localhost:8080/"
        },
        "id": "iEmXZYrc69Kr",
        "outputId": "5f5653b6-db62-40b1-8fe6-f66446def85f"
      },
      "execution_count": 14,
      "outputs": [
        {
          "output_type": "stream",
          "name": "stdout",
          "text": [
            "2\n",
            "5\n",
            "8\n",
            "11\n",
            "14\n",
            "17\n",
            "20\n"
          ]
        }
      ]
    },
    {
      "cell_type": "code",
      "source": [
        "names: list[str] = [\"ali\", \"Muhammad\", \"Hafiz\"]\n",
        "\n",
        "list(enumerate(names)) #enumerate function returns the index with the element"
      ],
      "metadata": {
        "colab": {
          "base_uri": "https://localhost:8080/"
        },
        "id": "1Biku79A7meW",
        "outputId": "4970c360-8901-4a2e-d051-cae1ecc20c8e"
      },
      "execution_count": 15,
      "outputs": [
        {
          "output_type": "execute_result",
          "data": {
            "text/plain": [
              "[(0, 'ali'), (1, 'Muhammad'), (2, 'Hafiz')]"
            ]
          },
          "metadata": {},
          "execution_count": 15
        }
      ]
    },
    {
      "cell_type": "code",
      "source": [
        "names: list[str] = [\"ali\", \"Muhammad\", \"Hafiz\"]\n",
        "\n",
        "for index, name in enumerate(names):\n",
        "  print(index, name)"
      ],
      "metadata": {
        "colab": {
          "base_uri": "https://localhost:8080/"
        },
        "id": "GXFGqqpf8RsX",
        "outputId": "0b830318-2387-4185-90a5-e9367c16e524"
      },
      "execution_count": 16,
      "outputs": [
        {
          "output_type": "stream",
          "name": "stdout",
          "text": [
            "0 ali\n",
            "1 Muhammad\n",
            "2 Hafiz\n"
          ]
        }
      ]
    },
    {
      "cell_type": "code",
      "source": [
        "for n in range(1, 11):\n",
        "  print(f'{2} x {n} = {n*2}')"
      ],
      "metadata": {
        "colab": {
          "base_uri": "https://localhost:8080/"
        },
        "id": "tONB1Wjt8Rxz",
        "outputId": "6f9de1ba-6d90-4f18-abbd-2cc3c2dcca5a"
      },
      "execution_count": 18,
      "outputs": [
        {
          "output_type": "stream",
          "name": "stdout",
          "text": [
            "2 x 1 = 2\n",
            "2 x 2 = 4\n",
            "2 x 3 = 6\n",
            "2 x 4 = 8\n",
            "2 x 5 = 10\n",
            "2 x 6 = 12\n",
            "2 x 7 = 14\n",
            "2 x 8 = 16\n",
            "2 x 9 = 18\n",
            "2 x 10 = 20\n"
          ]
        }
      ]
    },
    {
      "cell_type": "code",
      "source": [
        "squares: list[int] = []\n",
        "for value in range(1, 11):\n",
        "  square = value ** 2\n",
        "  squares.append(square)\n",
        "print(squares)"
      ],
      "metadata": {
        "colab": {
          "base_uri": "https://localhost:8080/"
        },
        "id": "LJ3KyVJh8R0M",
        "outputId": "8e06b989-2980-4354-bbf9-266ca75cdbec"
      },
      "execution_count": 19,
      "outputs": [
        {
          "output_type": "stream",
          "name": "stdout",
          "text": [
            "[1, 4, 9, 16, 25, 36, 49, 64, 81, 100]\n"
          ]
        }
      ]
    },
    {
      "cell_type": "markdown",
      "source": [
        "#List comprehensive\n",
        "\n",
        "'''\n",
        "for item in items:\n",
        "   loop_body\n",
        "'''\n",
        "\n",
        "#Comprehensive sytle\n",
        "\n",
        "'''\n",
        "loop_body for item in items\n",
        "'''"
      ],
      "metadata": {
        "id": "labwCamS9o8M"
      }
    },
    {
      "cell_type": "code",
      "source": [],
      "metadata": {
        "id": "lQD4sovn8R3e"
      },
      "execution_count": null,
      "outputs": []
    },
    {
      "cell_type": "code",
      "source": [],
      "metadata": {
        "id": "DKvWcYhT8R6u"
      },
      "execution_count": null,
      "outputs": []
    },
    {
      "cell_type": "code",
      "source": [],
      "metadata": {
        "id": "R8A6-Pig8R-Q"
      },
      "execution_count": null,
      "outputs": []
    },
    {
      "cell_type": "code",
      "source": [],
      "metadata": {
        "id": "UD8ewOIc8SBf"
      },
      "execution_count": null,
      "outputs": []
    },
    {
      "cell_type": "code",
      "source": [],
      "metadata": {
        "id": "IrAGJoBb8SEe"
      },
      "execution_count": null,
      "outputs": []
    },
    {
      "cell_type": "code",
      "source": [],
      "metadata": {
        "id": "zGaSL8pn8SHR"
      },
      "execution_count": null,
      "outputs": []
    }
  ]
}