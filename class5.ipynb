{
  "nbformat": 4,
  "nbformat_minor": 0,
  "metadata": {
    "colab": {
      "provenance": [],
      "authorship_tag": "ABX9TyPl0f1W9aFSrnMrCHeNPqKY",
      "include_colab_link": true
    },
    "kernelspec": {
      "name": "python3",
      "display_name": "Python 3"
    },
    "language_info": {
      "name": "python"
    }
  },
  "cells": [
    {
      "cell_type": "markdown",
      "metadata": {
        "id": "view-in-github",
        "colab_type": "text"
      },
      "source": [
        "<a href=\"https://colab.research.google.com/github/aatika-hakim/Python/blob/main/class5.ipynb\" target=\"_parent\"><img src=\"https://colab.research.google.com/assets/colab-badge.svg\" alt=\"Open In Colab\"/></a>"
      ]
    },
    {
      "cell_type": "markdown",
      "source": [
        "# **List Comprehensions, Tuples, For Loops, and the unique For-Else construct**"
      ],
      "metadata": {
        "id": "9R-xAZINiQbO"
      }
    },
    {
      "cell_type": "markdown",
      "source": [
        "* iteration performing\n",
        "* applying operations on element"
      ],
      "metadata": {
        "id": "kYGu08V-kRaC"
      }
    },
    {
      "cell_type": "code",
      "execution_count": 2,
      "metadata": {
        "colab": {
          "base_uri": "https://localhost:8080/"
        },
        "id": "b37Mv3QUiNdN",
        "outputId": "ec537a9d-40ba-45cc-97f5-ea526925798f"
      },
      "outputs": [
        {
          "output_type": "stream",
          "name": "stdout",
          "text": [
            "['Ali', 'Muhammad', 'Alif']\n"
          ]
        }
      ],
      "source": [
        "names : list[str] = [\"Ali\", \"Muhammad\", \"Alif\"]\n",
        "\n",
        "names"
      ]
    },
    {
      "cell_type": "code",
      "source": [
        "names : list[str] = [\"Ali\", \"Muhammad\", \"Alif\"]\n",
        "\n",
        "for name in names:\n",
        "  print(name)"
      ],
      "metadata": {
        "id": "GoyHvsA4iP9F"
      },
      "execution_count": 11,
      "outputs": []
    },
    {
      "cell_type": "code",
      "source": [
        "names : list[str] = [\"Ali\", \"Muhammad\", \"Alif\"]\n",
        "\n",
        "for name in names:\n",
        "  print(f'Hello {name.title()}')\n",
        "  print(\"Learning python\\n\")\n",
        "\n",
        "print(\"hi\")  #not part of loop"
      ],
      "metadata": {
        "colab": {
          "base_uri": "https://localhost:8080/"
        },
        "id": "uQ3gYUTpllv7",
        "outputId": "06a9d2ae-3121-49c2-b43d-339dc485408f"
      },
      "execution_count": 13,
      "outputs": [
        {
          "output_type": "stream",
          "name": "stdout",
          "text": [
            "Hello Ali\n",
            "Learning python\n",
            "\n",
            "Hello Muhammad\n",
            "Learning python\n",
            "\n",
            "Hello Alif\n",
            "Learning python\n",
            "\n",
            "hi\n"
          ]
        }
      ]
    },
    {
      "cell_type": "code",
      "source": [
        "names : list[str] = [\"Ali\", \"Muhammad\", \"Alif\"]\n",
        "\n",
        "for name in names[:2]: #slicing we can perform anything with specific element\n",
        "  print(name)"
      ],
      "metadata": {
        "colab": {
          "base_uri": "https://localhost:8080/"
        },
        "id": "It1UTGaMnwk_",
        "outputId": "333fcd07-70cb-4d63-e562-4c04d4d51489"
      },
      "execution_count": 15,
      "outputs": [
        {
          "output_type": "stream",
          "name": "stdout",
          "text": [
            "Ali\n",
            "Muhammad\n"
          ]
        }
      ]
    },
    {
      "cell_type": "code",
      "source": [
        "database : list[tuple(str, int)] = [('ali', 12),\n",
        "                                    ('Ali', 34)\n",
        "                                    ]\n",
        "for i in database:\n",
        "  print(i)"
      ],
      "metadata": {
        "colab": {
          "base_uri": "https://localhost:8080/",
          "height": 211
        },
        "id": "JSgR8Fzart3K",
        "outputId": "edf9bb69-53f4-4e03-ba68-5eeb55a488b3"
      },
      "execution_count": 18,
      "outputs": [
        {
          "output_type": "error",
          "ename": "TypeError",
          "evalue": "tuple expected at most 1 argument, got 2",
          "traceback": [
            "\u001b[0;31m---------------------------------------------------------------------------\u001b[0m",
            "\u001b[0;31mTypeError\u001b[0m                                 Traceback (most recent call last)",
            "\u001b[0;32m<ipython-input-18-8e1f63dab673>\u001b[0m in \u001b[0;36m<cell line: 1>\u001b[0;34m()\u001b[0m\n\u001b[0;32m----> 1\u001b[0;31m database : list[tuple(str, int)] = [('ali', 12),\n\u001b[0m\u001b[1;32m      2\u001b[0m                                     \u001b[0;34m(\u001b[0m\u001b[0;34m'Ali'\u001b[0m\u001b[0;34m,\u001b[0m \u001b[0;36m34\u001b[0m\u001b[0;34m)\u001b[0m\u001b[0;34m\u001b[0m\u001b[0;34m\u001b[0m\u001b[0m\n\u001b[1;32m      3\u001b[0m                                     ]\n\u001b[1;32m      4\u001b[0m \u001b[0;32mfor\u001b[0m \u001b[0mi\u001b[0m \u001b[0;32min\u001b[0m \u001b[0mdatabase\u001b[0m\u001b[0;34m:\u001b[0m\u001b[0;34m\u001b[0m\u001b[0;34m\u001b[0m\u001b[0m\n\u001b[1;32m      5\u001b[0m   \u001b[0mprint\u001b[0m\u001b[0;34m(\u001b[0m\u001b[0mi\u001b[0m\u001b[0;34m)\u001b[0m\u001b[0;34m\u001b[0m\u001b[0;34m\u001b[0m\u001b[0m\n",
            "\u001b[0;31mTypeError\u001b[0m: tuple expected at most 1 argument, got 2"
          ]
        }
      ]
    },
    {
      "cell_type": "code",
      "source": [
        "database : list[tuple[str, int]] = [('ali', 12),\n",
        "                                    ('Ali', 34)\n",
        "                                    ]\n",
        "for i in database:\n",
        "  print(i)"
      ],
      "metadata": {
        "colab": {
          "base_uri": "https://localhost:8080/"
        },
        "id": "gCaKgp4eoKz6",
        "outputId": "3271366d-0a50-42b2-a093-d90261690265"
      },
      "execution_count": 17,
      "outputs": [
        {
          "output_type": "stream",
          "name": "stdout",
          "text": [
            "('ali', 12)\n",
            "('Ali', 34)\n"
          ]
        }
      ]
    },
    {
      "cell_type": "code",
      "source": [],
      "metadata": {
        "id": "vd6x4pe9rnvJ"
      },
      "execution_count": null,
      "outputs": []
    }
  ]
}